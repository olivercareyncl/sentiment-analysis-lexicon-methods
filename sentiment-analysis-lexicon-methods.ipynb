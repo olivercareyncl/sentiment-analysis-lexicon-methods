{
 "cells": [
  {
   "cell_type": "markdown",
   "id": "b91b65f2-3782-4ab1-8e3d-8712b9fa77d1",
   "metadata": {},
   "source": [
    "# Sentiment Analysis with VADER and TextBlob\r\n",
    "### A Practical Guide to Lexicon-Based Sentiment Analysis\n",
    "\n",
    "**Author**: Oliver Carey     \n",
    "**Date**: Wednesday, 25th September 2024\r\n",
    "\r\n",
    "---\r\n",
    "\n"
   ]
  },
  {
   "cell_type": "markdown",
   "id": "1b16123b-ab47-4d18-a854-7c7bd8052c48",
   "metadata": {},
   "source": [
    "## 1. Introduction\n",
    "\n",
    "Sentiment analysis is a powerful natural language processing (NLP) technique used to identify and extract subjective information from text. It helps determine whether the sentiment expressed in a piece of text is **positive**, **negative**, or **neutral**. With the explosion of data from social media, customer reviews, and online interactions, sentiment analysis plays a crucial role in understanding public opinion and making data-driven decisions.\n",
    "\n",
    "In this guide, we focus on **lexicon-based sentiment analysis** using two popular methods:\n",
    "- **VADER (Valence Aware Dictionary and sEntiment Reasoner)**: A rule-based model optimized for social media and short texts, capable of handling punctuation, slang, and emoticons.\n",
    "- **TextBlob**: A simple and easy-to-use library for text processing, which includes sentiment analysis as one of its key features.\n",
    "\n",
    "These lexicon-based methods are useful for tasks like:\n",
    "- **Analysing customer feedback** to identify satisfaction levels.\n",
    "- **Monitoring social media sentiment** around brand mentions or trending topics.\n",
    "- **Assessing product reviews** to gauge consumer perception.\n",
    "- **Tracking sentiment in news articles** to understand public opinion on current events.\n",
    "\n",
    "In this guide, we’ll walk through the steps of applying VADER and TextBlob for sentiment analysis using both simple and complex datasets, and visualise the results to understand their effectiveness."
   ]
  },
  {
   "cell_type": "markdown",
   "id": "e1e93456-7473-4c35-b810-6b1f6a69b57f",
   "metadata": {},
   "source": [
    "### 1.1. Installing Required Libraries\n",
    "\n",
    "Before we begin, it's important to ensure that the necessary libraries are installed and up-to-date. In this guide, we will use the following key libraries:\n",
    "\n",
    "- **vaderSentiment**: For sentiment analysis using the VADER model.\n",
    "- **TextBlob**: For sentiment analysis and other text processing tasks.\n",
    "- **pandas**: For data manipulation and analysis.\n",
    "- **matplotlib**: For creating static, animated, and interactive visualisations.\n",
    "- **seaborn**: For making statistical data visualisations.\n",
    "  \n",
    "You can install these libraries by running the following commands in your Jupyter Notebook or terminal:\n"
   ]
  },
  {
   "cell_type": "code",
   "execution_count": 97,
   "id": "39618187-1fc8-409b-b60e-c8c408937869",
   "metadata": {},
   "outputs": [
    {
     "name": "stdout",
     "output_type": "stream",
     "text": [
      "Requirement already satisfied: vaderSentiment in c:\\users\\olive\\anaconda3\\lib\\site-packages (3.3.2)\n",
      "Requirement already satisfied: textblob in c:\\users\\olive\\anaconda3\\lib\\site-packages (0.18.0.post0)\n",
      "Requirement already satisfied: pandas in c:\\users\\olive\\anaconda3\\lib\\site-packages (2.2.2)\n",
      "Requirement already satisfied: matplotlib in c:\\users\\olive\\anaconda3\\lib\\site-packages (3.8.4)\n",
      "Requirement already satisfied: seaborn in c:\\users\\olive\\anaconda3\\lib\\site-packages (0.13.2)\n",
      "Requirement already satisfied: requests in c:\\users\\olive\\anaconda3\\lib\\site-packages (from vaderSentiment) (2.32.2)\n",
      "Requirement already satisfied: nltk>=3.8 in c:\\users\\olive\\anaconda3\\lib\\site-packages (from textblob) (3.8.1)\n",
      "Requirement already satisfied: numpy>=1.26.0 in c:\\users\\olive\\anaconda3\\lib\\site-packages (from pandas) (1.26.4)\n",
      "Requirement already satisfied: python-dateutil>=2.8.2 in c:\\users\\olive\\anaconda3\\lib\\site-packages (from pandas) (2.9.0.post0)\n",
      "Requirement already satisfied: pytz>=2020.1 in c:\\users\\olive\\anaconda3\\lib\\site-packages (from pandas) (2024.1)\n",
      "Requirement already satisfied: tzdata>=2022.7 in c:\\users\\olive\\anaconda3\\lib\\site-packages (from pandas) (2023.3)\n",
      "Requirement already satisfied: contourpy>=1.0.1 in c:\\users\\olive\\anaconda3\\lib\\site-packages (from matplotlib) (1.2.0)\n",
      "Requirement already satisfied: cycler>=0.10 in c:\\users\\olive\\anaconda3\\lib\\site-packages (from matplotlib) (0.11.0)\n",
      "Requirement already satisfied: fonttools>=4.22.0 in c:\\users\\olive\\anaconda3\\lib\\site-packages (from matplotlib) (4.51.0)\n",
      "Requirement already satisfied: kiwisolver>=1.3.1 in c:\\users\\olive\\anaconda3\\lib\\site-packages (from matplotlib) (1.4.4)\n",
      "Requirement already satisfied: packaging>=20.0 in c:\\users\\olive\\anaconda3\\lib\\site-packages (from matplotlib) (23.2)\n",
      "Requirement already satisfied: pillow>=8 in c:\\users\\olive\\anaconda3\\lib\\site-packages (from matplotlib) (10.3.0)\n",
      "Requirement already satisfied: pyparsing>=2.3.1 in c:\\users\\olive\\anaconda3\\lib\\site-packages (from matplotlib) (3.0.9)\n",
      "Requirement already satisfied: click in c:\\users\\olive\\anaconda3\\lib\\site-packages (from nltk>=3.8->textblob) (8.1.7)\n",
      "Requirement already satisfied: joblib in c:\\users\\olive\\anaconda3\\lib\\site-packages (from nltk>=3.8->textblob) (1.4.2)\n",
      "Requirement already satisfied: regex>=2021.8.3 in c:\\users\\olive\\anaconda3\\lib\\site-packages (from nltk>=3.8->textblob) (2023.10.3)\n",
      "Requirement already satisfied: tqdm in c:\\users\\olive\\anaconda3\\lib\\site-packages (from nltk>=3.8->textblob) (4.66.4)\n",
      "Requirement already satisfied: six>=1.5 in c:\\users\\olive\\anaconda3\\lib\\site-packages (from python-dateutil>=2.8.2->pandas) (1.16.0)\n",
      "Requirement already satisfied: charset-normalizer<4,>=2 in c:\\users\\olive\\anaconda3\\lib\\site-packages (from requests->vaderSentiment) (2.0.4)\n",
      "Requirement already satisfied: idna<4,>=2.5 in c:\\users\\olive\\anaconda3\\lib\\site-packages (from requests->vaderSentiment) (3.7)\n",
      "Requirement already satisfied: urllib3<3,>=1.21.1 in c:\\users\\olive\\anaconda3\\lib\\site-packages (from requests->vaderSentiment) (2.2.2)\n",
      "Requirement already satisfied: certifi>=2017.4.17 in c:\\users\\olive\\anaconda3\\lib\\site-packages (from requests->vaderSentiment) (2024.7.4)\n",
      "Requirement already satisfied: colorama in c:\\users\\olive\\anaconda3\\lib\\site-packages (from click->nltk>=3.8->textblob) (0.4.6)\n"
     ]
    }
   ],
   "source": [
    "!pip install vaderSentiment textblob pandas matplotlib seaborn"
   ]
  },
  {
   "cell_type": "markdown",
   "id": "b422ece9-535c-4eb9-b327-6f268c96e143",
   "metadata": {},
   "source": [
    "Additionally, for TextBlob, you will need to download the necessary corpora. You can do this by running the following:"
   ]
  },
  {
   "cell_type": "code",
   "execution_count": 99,
   "id": "0e2eaa1b-5a62-47d1-8199-f4e7c8277db6",
   "metadata": {},
   "outputs": [
    {
     "name": "stderr",
     "output_type": "stream",
     "text": [
      "[nltk_data] Downloading package brown to\n",
      "[nltk_data]     C:\\Users\\olive\\AppData\\Roaming\\nltk_data...\n",
      "[nltk_data]   Package brown is already up-to-date!\n",
      "[nltk_data] Downloading package punkt to\n",
      "[nltk_data]     C:\\Users\\olive\\AppData\\Roaming\\nltk_data...\n",
      "[nltk_data]   Package punkt is already up-to-date!\n",
      "[nltk_data] Downloading package wordnet to\n",
      "[nltk_data]     C:\\Users\\olive\\AppData\\Roaming\\nltk_data...\n",
      "[nltk_data]   Package wordnet is already up-to-date!\n",
      "[nltk_data] Downloading package averaged_perceptron_tagger to\n",
      "[nltk_data]     C:\\Users\\olive\\AppData\\Roaming\\nltk_data...\n",
      "[nltk_data]   Package averaged_perceptron_tagger is already up-to-\n",
      "[nltk_data]       date!\n",
      "[nltk_data] Downloading package conll2000 to\n",
      "[nltk_data]     C:\\Users\\olive\\AppData\\Roaming\\nltk_data...\n",
      "[nltk_data]   Package conll2000 is already up-to-date!\n",
      "[nltk_data] Downloading package movie_reviews to\n",
      "[nltk_data]     C:\\Users\\olive\\AppData\\Roaming\\nltk_data...\n",
      "[nltk_data]   Package movie_reviews is already up-to-date!\n"
     ]
    }
   ],
   "source": [
    "import textblob.download_corpora\n",
    "textblob.download_corpora.download_all()"
   ]
  },
  {
   "cell_type": "markdown",
   "id": "316f5714-fddc-4914-b090-39a601680a05",
   "metadata": {},
   "source": [
    "## 2. Analysing Simple Sample Data with VADER and TextBlob\n",
    "\n",
    "To begin with, we will load a simple dataset containing various user reviews. This dataset will help demonstrate the process of lexicon-based sentiment analysis using both **VADER** and **TextBlob**.\n",
    "\n",
    "### 2.1. Loading the Sample Data\n",
    "\n",
    "First, we load the dataset from a CSV file:"
   ]
  },
  {
   "cell_type": "code",
   "execution_count": 43,
   "id": "fb2bcc99-f15b-45f4-8a23-ce5b0f1a829a",
   "metadata": {},
   "outputs": [
    {
     "data": {
      "text/html": [
       "<div>\n",
       "<style scoped>\n",
       "    .dataframe tbody tr th:only-of-type {\n",
       "        vertical-align: middle;\n",
       "    }\n",
       "\n",
       "    .dataframe tbody tr th {\n",
       "        vertical-align: top;\n",
       "    }\n",
       "\n",
       "    .dataframe thead th {\n",
       "        text-align: right;\n",
       "    }\n",
       "</style>\n",
       "<table border=\"1\" class=\"dataframe\">\n",
       "  <thead>\n",
       "    <tr style=\"text-align: right;\">\n",
       "      <th></th>\n",
       "      <th>Text</th>\n",
       "    </tr>\n",
       "  </thead>\n",
       "  <tbody>\n",
       "    <tr>\n",
       "      <th>0</th>\n",
       "      <td>This product is great, I absolutely love it!</td>\n",
       "    </tr>\n",
       "    <tr>\n",
       "      <th>1</th>\n",
       "      <td>The service was terrible, I’m never coming back.</td>\n",
       "    </tr>\n",
       "    <tr>\n",
       "      <th>2</th>\n",
       "      <td>Meh, the food was okay, but not worth the price.</td>\n",
       "    </tr>\n",
       "    <tr>\n",
       "      <th>3</th>\n",
       "      <td>Best experience ever, highly recommended!</td>\n",
       "    </tr>\n",
       "    <tr>\n",
       "      <th>4</th>\n",
       "      <td>Awful, I hated every minute of it.</td>\n",
       "    </tr>\n",
       "  </tbody>\n",
       "</table>\n",
       "</div>"
      ],
      "text/plain": [
       "                                               Text\n",
       "0      This product is great, I absolutely love it!\n",
       "1  The service was terrible, I’m never coming back.\n",
       "2  Meh, the food was okay, but not worth the price.\n",
       "3         Best experience ever, highly recommended!\n",
       "4                Awful, I hated every minute of it."
      ]
     },
     "execution_count": 43,
     "metadata": {},
     "output_type": "execute_result"
    }
   ],
   "source": [
    "# Load the sample text data\n",
    "import pandas as pd\n",
    "\n",
    "data = pd.read_csv('Sentiment Analysis/sample_texts.csv')\n",
    "\n",
    "# Display the first few rows\n",
    "data.head()\n"
   ]
  },
  {
   "cell_type": "markdown",
   "id": "6f657b81-b9fc-4bec-a7c7-d0cbaf5d6ab4",
   "metadata": {},
   "source": [
    "### 2.3. Applying VADER and TextBlob for Sentiment Analysis\n",
    "\n",
    "Once the data is loaded, we can now apply **VADER** and **TextBlob** to analyse the sentiment of the text. Both methods are lexicon-based, but they approach sentiment analysis differently:\n",
    "\n",
    "- **VADER** (Valence Aware Dictionary and sEntiment Reasoner) provides a **compound score** that ranges from -1 (most negative) to +1 (most positive). This score takes into account the intensity of the sentiment.\n",
    "- **TextBlob** calculates a **polarity score** between -1 (negative) and +1 (positive), but it does not take into account intensity as strongly as VADER. It also provides a **subjectivity score**, which measures how subjective the text is.\n",
    "\n",
    "We will apply both methods to our dataset of reviews and compare their sentiment scores."
   ]
  },
  {
   "cell_type": "code",
   "execution_count": 50,
   "id": "f62b012d-4fcc-43dd-89a2-13c4f3e9e5c5",
   "metadata": {},
   "outputs": [
    {
     "data": {
      "text/html": [
       "<div>\n",
       "<style scoped>\n",
       "    .dataframe tbody tr th:only-of-type {\n",
       "        vertical-align: middle;\n",
       "    }\n",
       "\n",
       "    .dataframe tbody tr th {\n",
       "        vertical-align: top;\n",
       "    }\n",
       "\n",
       "    .dataframe thead th {\n",
       "        text-align: right;\n",
       "    }\n",
       "</style>\n",
       "<table border=\"1\" class=\"dataframe\">\n",
       "  <thead>\n",
       "    <tr style=\"text-align: right;\">\n",
       "      <th></th>\n",
       "      <th>Text</th>\n",
       "      <th>VADER_Sentiment</th>\n",
       "      <th>TextBlob_Polarity</th>\n",
       "      <th>TextBlob_Subjectivity</th>\n",
       "    </tr>\n",
       "  </thead>\n",
       "  <tbody>\n",
       "    <tr>\n",
       "      <th>0</th>\n",
       "      <td>This product is great, I absolutely love it!</td>\n",
       "      <td>0.8716</td>\n",
       "      <td>0.7125</td>\n",
       "      <td>0.675</td>\n",
       "    </tr>\n",
       "    <tr>\n",
       "      <th>1</th>\n",
       "      <td>The service was terrible, I’m never coming back.</td>\n",
       "      <td>-0.4767</td>\n",
       "      <td>-0.5000</td>\n",
       "      <td>0.500</td>\n",
       "    </tr>\n",
       "    <tr>\n",
       "      <th>2</th>\n",
       "      <td>Meh, the food was okay, but not worth the price.</td>\n",
       "      <td>-0.1776</td>\n",
       "      <td>0.1750</td>\n",
       "      <td>0.300</td>\n",
       "    </tr>\n",
       "    <tr>\n",
       "      <th>3</th>\n",
       "      <td>Best experience ever, highly recommended!</td>\n",
       "      <td>0.7639</td>\n",
       "      <td>0.6000</td>\n",
       "      <td>0.420</td>\n",
       "    </tr>\n",
       "    <tr>\n",
       "      <th>4</th>\n",
       "      <td>Awful, I hated every minute of it.</td>\n",
       "      <td>-0.8020</td>\n",
       "      <td>-0.9500</td>\n",
       "      <td>0.850</td>\n",
       "    </tr>\n",
       "  </tbody>\n",
       "</table>\n",
       "</div>"
      ],
      "text/plain": [
       "                                               Text  VADER_Sentiment  \\\n",
       "0      This product is great, I absolutely love it!           0.8716   \n",
       "1  The service was terrible, I’m never coming back.          -0.4767   \n",
       "2  Meh, the food was okay, but not worth the price.          -0.1776   \n",
       "3         Best experience ever, highly recommended!           0.7639   \n",
       "4                Awful, I hated every minute of it.          -0.8020   \n",
       "\n",
       "   TextBlob_Polarity  TextBlob_Subjectivity  \n",
       "0             0.7125                  0.675  \n",
       "1            -0.5000                  0.500  \n",
       "2             0.1750                  0.300  \n",
       "3             0.6000                  0.420  \n",
       "4            -0.9500                  0.850  "
      ]
     },
     "execution_count": 50,
     "metadata": {},
     "output_type": "execute_result"
    }
   ],
   "source": [
    "# Initialise VADER and TextBlob\n",
    "from vaderSentiment.vaderSentiment import SentimentIntensityAnalyzer\n",
    "from textblob import TextBlob\n",
    "\n",
    "# Initialise VADER\n",
    "vader_analyzer = SentimentIntensityAnalyzer()\n",
    "\n",
    "# Apply VADER to the dataset\n",
    "data['VADER_Sentiment'] = data['Text'].apply(lambda text: vader_analyzer.polarity_scores(text)['compound'])\n",
    "\n",
    "# Apply TextBlob to the dataset\n",
    "data['TextBlob_Polarity'] = data['Text'].apply(lambda text: TextBlob(text).sentiment.polarity)\n",
    "data['TextBlob_Subjectivity'] = data['Text'].apply(lambda text: TextBlob(text).sentiment.subjectivity)\n",
    "\n",
    "# Display the first few rows of the result\n",
    "data[['Text', 'VADER_Sentiment', 'TextBlob_Polarity', 'TextBlob_Subjectivity']].head()\n"
   ]
  },
  {
   "cell_type": "markdown",
   "id": "98c45e11-5bdd-47f2-ba97-8c79a458a0d7",
   "metadata": {},
   "source": [
    "### 2.4. Visualising Sentiment Distributions\n",
    "\n",
    "After calculating sentiment scores using both **VADER** and **TextBlob**, it’s helpful to visualise the results. By plotting the sentiment distributions, we can see how frequently positive, negative, and neutral sentiments occur in the dataset.\n",
    "\n",
    "We will create histograms to show the distribution of sentiment scores across the dataset."
   ]
  },
  {
   "cell_type": "code",
   "execution_count": 53,
   "id": "fb39290f-2200-46bc-8625-68486a0427ac",
   "metadata": {},
   "outputs": [
    {
     "data": {
      "image/png": "[encoded data removed]",
      "text/plain": [
       "<Figure size 1200x600 with 2 Axes>"
      ]
     },
     "metadata": {},
     "output_type": "display_data"
    }
   ],
   "source": [
    "import matplotlib.pyplot as plt\n",
    "import seaborn as sns\n",
    "\n",
    "# Set up the figure size\n",
    "plt.figure(figsize=(12, 6))\n",
    "\n",
    "# VADER Sentiment Distribution\n",
    "plt.subplot(1, 2, 1)\n",
    "sns.histplot(data['VADER_Sentiment'], bins=20, kde=True, color='blue')\n",
    "plt.title('VADER Sentiment Distribution')\n",
    "plt.xlabel('VADER Sentiment')\n",
    "plt.ylabel('Count')\n",
    "\n",
    "# TextBlob Sentiment Distribution\n",
    "plt.subplot(1, 2, 2)\n",
    "sns.histplot(data['TextBlob_Polarity'], bins=20, kde=True, color='orange')\n",
    "plt.title('TextBlob Sentiment Distribution')\n",
    "plt.xlabel('TextBlob Polarity')\n",
    "plt.ylabel('Count')\n",
    "\n",
    "# Show the plots\n",
    "plt.tight_layout()\n",
    "plt.show()"
   ]
  },
  {
   "cell_type": "markdown",
   "id": "14c93789-1730-4e9c-9542-308dc784f4d8",
   "metadata": {},
   "source": [
    "#### Comments:\n",
    "- **VADER**: More sensitive to punctuation, capitalisation, and intensity, resulting in a more polarised sentiment distribution, especially for strong positive or negative reviews.\n",
    "- **TextBlob**: Tends to assign more neutral or slightly positive scores, with fewer extremes, due to its less sensitivity to intensity compared to VADER.\n"
   ]
  },
  {
   "cell_type": "markdown",
   "id": "718ce500-9f4f-44df-8b8f-065cd08bb562",
   "metadata": {},
   "source": [
    "### 2.5 Classifying Sentiment into Categories\n",
    "\n",
    "Now that we have calculated sentiment scores using both **VADER** and **TextBlob**, the next step is to classify these scores into categories: **Positive**, **Neutral**, or **Negative**.\n",
    "\n",
    "We will use the following thresholds to classify sentiment:\n",
    "- **Positive**: Sentiment score > 0\n",
    "- **Neutral**: Sentiment score = 0\n",
    "- **Negative**: Sentiment score < 0\n",
    "\n",
    "**Note**: We have chosen a straightforward classification approach, where positive sentiment is identified by scores greater than 0, negative sentiment by scores less than 0, and neutral sentiment as exactly 0. Both **VADER** and **TextBlob** use these thresholds, though they may assign scores differently.\n",
    "\n",
    "We apply these thresholds to both the **VADER compound score** and the **TextBlob polarity score**:\n"
   ]
  },
  {
   "cell_type": "code",
   "execution_count": 59,
   "id": "a4546813-cbf3-496f-9ecd-1df73123ee7a",
   "metadata": {},
   "outputs": [
    {
     "data": {
      "text/html": [
       "<div>\n",
       "<style scoped>\n",
       "    .dataframe tbody tr th:only-of-type {\n",
       "        vertical-align: middle;\n",
       "    }\n",
       "\n",
       "    .dataframe tbody tr th {\n",
       "        vertical-align: top;\n",
       "    }\n",
       "\n",
       "    .dataframe thead th {\n",
       "        text-align: right;\n",
       "    }\n",
       "</style>\n",
       "<table border=\"1\" class=\"dataframe\">\n",
       "  <thead>\n",
       "    <tr style=\"text-align: right;\">\n",
       "      <th></th>\n",
       "      <th>Text</th>\n",
       "      <th>VADER_Sentiment_Category</th>\n",
       "      <th>TextBlob_Sentiment_Category</th>\n",
       "    </tr>\n",
       "  </thead>\n",
       "  <tbody>\n",
       "    <tr>\n",
       "      <th>0</th>\n",
       "      <td>This product is great, I absolutely love it!</td>\n",
       "      <td>Positive</td>\n",
       "      <td>Positive</td>\n",
       "    </tr>\n",
       "    <tr>\n",
       "      <th>1</th>\n",
       "      <td>The service was terrible, I’m never coming back.</td>\n",
       "      <td>Negative</td>\n",
       "      <td>Negative</td>\n",
       "    </tr>\n",
       "    <tr>\n",
       "      <th>2</th>\n",
       "      <td>Meh, the food was okay, but not worth the price.</td>\n",
       "      <td>Negative</td>\n",
       "      <td>Positive</td>\n",
       "    </tr>\n",
       "    <tr>\n",
       "      <th>3</th>\n",
       "      <td>Best experience ever, highly recommended!</td>\n",
       "      <td>Positive</td>\n",
       "      <td>Positive</td>\n",
       "    </tr>\n",
       "    <tr>\n",
       "      <th>4</th>\n",
       "      <td>Awful, I hated every minute of it.</td>\n",
       "      <td>Negative</td>\n",
       "      <td>Negative</td>\n",
       "    </tr>\n",
       "  </tbody>\n",
       "</table>\n",
       "</div>"
      ],
      "text/plain": [
       "                                               Text VADER_Sentiment_Category  \\\n",
       "0      This product is great, I absolutely love it!                 Positive   \n",
       "1  The service was terrible, I’m never coming back.                 Negative   \n",
       "2  Meh, the food was okay, but not worth the price.                 Negative   \n",
       "3         Best experience ever, highly recommended!                 Positive   \n",
       "4                Awful, I hated every minute of it.                 Negative   \n",
       "\n",
       "  TextBlob_Sentiment_Category  \n",
       "0                    Positive  \n",
       "1                    Negative  \n",
       "2                    Positive  \n",
       "3                    Positive  \n",
       "4                    Negative  "
      ]
     },
     "execution_count": 59,
     "metadata": {},
     "output_type": "execute_result"
    }
   ],
   "source": [
    "# Function to classify sentiment into categories\n",
    "def classify_sentiment(score):\n",
    "    if score > 0:\n",
    "        return 'Positive'\n",
    "    elif score == 0:\n",
    "        return 'Neutral'\n",
    "    else:\n",
    "        return 'Negative'\n",
    "\n",
    "# Apply the classification function to VADER and TextBlob scores\n",
    "data['VADER_Sentiment_Category'] = data['VADER_Sentiment'].apply(classify_sentiment)\n",
    "data['TextBlob_Sentiment_Category'] = data['TextBlob_Polarity'].apply(classify_sentiment)\n",
    "\n",
    "# Display the classified sentiment\n",
    "data[['Text', 'VADER_Sentiment_Category', 'TextBlob_Sentiment_Category']].head()\n"
   ]
  },
  {
   "cell_type": "markdown",
   "id": "d615d330-bc05-413a-a8b4-e35c7ecab0b7",
   "metadata": {},
   "source": [
    "### 2.6. Visualising Sentiment Categories\n",
    "\n",
    "To better understand how VADER and TextBlob classify sentiment across the dataset, we can create bar charts that show the distribution of **Positive**, **Neutral**, and **Negative** categories for both models."
   ]
  },
  {
   "cell_type": "code",
   "execution_count": 66,
   "id": "45a8e20a-b95e-4c83-9ae8-8431e7d67211",
   "metadata": {},
   "outputs": [
    {
     "data": {
      "image/png": "[encoded data removed]",
      "text/plain": [
       "<Figure size 1000x500 with 2 Axes>"
      ]
     },
     "metadata": {},
     "output_type": "display_data"
    }
   ],
   "source": [
    "# Set up the figure size\n",
    "plt.figure(figsize=(10, 5))\n",
    "\n",
    "# Countplot for VADER Sentiment Categories\n",
    "plt.subplot(1, 2, 1)\n",
    "sns.countplot(x='VADER_Sentiment_Category', data=data, hue='VADER_Sentiment_Category', palette='Blues', legend=False)\n",
    "plt.title('VADER Sentiment Categories')\n",
    "\n",
    "# Countplot for TextBlob Sentiment Categories\n",
    "plt.subplot(1, 2, 2)\n",
    "sns.countplot(x='TextBlob_Sentiment_Category', data=data, hue='TextBlob_Sentiment_Category', palette='Oranges', legend=False)\n",
    "plt.title('TextBlob Sentiment Categories')\n",
    "\n",
    "# Display the plots\n",
    "plt.tight_layout()\n",
    "plt.show()"
   ]
  },
  {
   "cell_type": "markdown",
   "id": "aa280266-535f-42f0-af6d-7e064b7fe438",
   "metadata": {},
   "source": [
    "#### Comments:\n",
    "- Both **VADER** and **TextBlob** classified the majority of the dataset as either **Positive** or **Negative**, without identifying any neutral reviews. This could be due to the nature of the dataset or the thresholds used in classification.\n",
    "- **VADER** tends to be more sensitive to intensity, while **TextBlob** leans toward more neutral or mildly positive classifications in other datasets. However, in this dataset, both models appear to have a similar distribution of sentiment categories."
   ]
  },
  {
   "cell_type": "markdown",
   "id": "15efa8af-d186-429c-9731-6954709a54a3",
   "metadata": {},
   "source": [
    "### 2.7. Conclusion: Simple Sentiment Analysis\r\n",
    "\r\n",
    "In this simple sentiment analysis, we have demonstrated how to use **VADER** and **TextBlob**, two lexicon-based models, to classify text into sentiment categories\n",
    "#### Comparison Between VADER and TextBlob:\n",
    "- **VADER** is generally more likely to assign stronger sentiment categories (either strongly positive or strongly negative) due to its consideration of text nuances.\n",
    "- **TextBlob** tends to classify text more neutrally and is less sensitive to sentiment intensity. However, in this dataset, it behaved similarly to VADER, with no significant deviations between their results.\n",
    "r results.\r\n",
    "\r\n",
    "This basic analysis provides a good understanding of how **VADER** and **TextBlob** handle sentiment detection. In the next section, we will apply the same sentiment analysis techniques to a more complex dataset — **Twitter data**, where informal and short text can significantly impact model performance.\r\n",
    "\n"
   ]
  },
  {
   "cell_type": "markdown",
   "id": "bfb1dfea-4140-40ea-98ed-3bd63f799212",
   "metadata": {},
   "source": [
    "## 3. Complex Dataset: Twitter Sentiment Analysis\n",
    "\n",
    "In this section, we will use a Twitter dataset from NLTK’s Twitter Samples, which includes both positive and negative tweets. This dataset will allow us to observe how VADER and TextBlob handle informal language, abbreviations, and varied punctuation."
   ]
  },
  {
   "cell_type": "markdown",
   "id": "29023945-9725-4f65-a0f3-0acfb89f8f22",
   "metadata": {},
   "source": [
    "### 3.1. Loading the Twitter Dataset\n",
    "We’ll first load the positive and negative tweets from the NLTK Twitter Samples corpus. These tweets are pre-labeled with sentiment categories, making them ideal for our analysis."
   ]
  },
  {
   "cell_type": "code",
   "execution_count": 76,
   "id": "79aac66c-c12a-4d56-bc53-70df25dfd018",
   "metadata": {},
   "outputs": [
    {
     "data": {
      "text/html": [
       "<div>\n",
       "<style scoped>\n",
       "    .dataframe tbody tr th:only-of-type {\n",
       "        vertical-align: middle;\n",
       "    }\n",
       "\n",
       "    .dataframe tbody tr th {\n",
       "        vertical-align: top;\n",
       "    }\n",
       "\n",
       "    .dataframe thead th {\n",
       "        text-align: right;\n",
       "    }\n",
       "</style>\n",
       "<table border=\"1\" class=\"dataframe\">\n",
       "  <thead>\n",
       "    <tr style=\"text-align: right;\">\n",
       "      <th></th>\n",
       "      <th>Text</th>\n",
       "      <th>Actual_Sentiment</th>\n",
       "    </tr>\n",
       "  </thead>\n",
       "  <tbody>\n",
       "    <tr>\n",
       "      <th>0</th>\n",
       "      <td>#FollowFriday @France_Inte @PKuchly57 @Milipol...</td>\n",
       "      <td>Positive</td>\n",
       "    </tr>\n",
       "    <tr>\n",
       "      <th>1</th>\n",
       "      <td>@Lamb2ja Hey James! How odd :/ Please call our...</td>\n",
       "      <td>Positive</td>\n",
       "    </tr>\n",
       "    <tr>\n",
       "      <th>2</th>\n",
       "      <td>@DespiteOfficial we had a listen last night :)...</td>\n",
       "      <td>Positive</td>\n",
       "    </tr>\n",
       "    <tr>\n",
       "      <th>3</th>\n",
       "      <td>@97sides CONGRATS :)</td>\n",
       "      <td>Positive</td>\n",
       "    </tr>\n",
       "    <tr>\n",
       "      <th>4</th>\n",
       "      <td>yeaaaah yippppy!!!  my accnt verified rqst has...</td>\n",
       "      <td>Positive</td>\n",
       "    </tr>\n",
       "  </tbody>\n",
       "</table>\n",
       "</div>"
      ],
      "text/plain": [
       "                                                Text Actual_Sentiment\n",
       "0  #FollowFriday @France_Inte @PKuchly57 @Milipol...         Positive\n",
       "1  @Lamb2ja Hey James! How odd :/ Please call our...         Positive\n",
       "2  @DespiteOfficial we had a listen last night :)...         Positive\n",
       "3                               @97sides CONGRATS :)         Positive\n",
       "4  yeaaaah yippppy!!!  my accnt verified rqst has...         Positive"
      ]
     },
     "execution_count": 76,
     "metadata": {},
     "output_type": "execute_result"
    }
   ],
   "source": [
    "from nltk.corpus import twitter_samples\n",
    "import pandas as pd\n",
    "\n",
    "# Load positive and negative tweets\n",
    "positive_tweets = twitter_samples.strings('positive_tweets.json')\n",
    "negative_tweets = twitter_samples.strings('negative_tweets.json')\n",
    "\n",
    "# Create a DataFrame for both categories\n",
    "data = pd.DataFrame({\n",
    "    'Text': positive_tweets + negative_tweets, \n",
    "    'Actual_Sentiment': ['Positive'] * len(positive_tweets) + ['Negative'] * len(negative_tweets)\n",
    "})\n",
    "\n",
    "# Display the first few rows of the dataset\n",
    "data.head()"
   ]
  },
  {
   "cell_type": "markdown",
   "id": "512522a6-ceb3-4faa-89bf-fe2ee32696d2",
   "metadata": {},
   "source": [
    "### 3.2. Applying Sentiment Analysis with VADER and TextBlob\n",
    "Now that we’ve loaded the Twitter dataset, we can apply VADER and TextBlob to analyze the sentiment of the tweets. This process is similar to what we did in the simple dataset, but the shorter, informal text of tweets will test the robustness of both models."
   ]
  },
  {
   "cell_type": "code",
   "execution_count": 79,
   "id": "95ac1d0c-3fcc-4f09-8f7f-1e5d969bbaa0",
   "metadata": {},
   "outputs": [
    {
     "data": {
      "text/html": [
       "<div>\n",
       "<style scoped>\n",
       "    .dataframe tbody tr th:only-of-type {\n",
       "        vertical-align: middle;\n",
       "    }\n",
       "\n",
       "    .dataframe tbody tr th {\n",
       "        vertical-align: top;\n",
       "    }\n",
       "\n",
       "    .dataframe thead th {\n",
       "        text-align: right;\n",
       "    }\n",
       "</style>\n",
       "<table border=\"1\" class=\"dataframe\">\n",
       "  <thead>\n",
       "    <tr style=\"text-align: right;\">\n",
       "      <th></th>\n",
       "      <th>Text</th>\n",
       "      <th>VADER_Sentiment</th>\n",
       "      <th>TextBlob_Polarity</th>\n",
       "      <th>Actual_Sentiment</th>\n",
       "    </tr>\n",
       "  </thead>\n",
       "  <tbody>\n",
       "    <tr>\n",
       "      <th>0</th>\n",
       "      <td>#FollowFriday @France_Inte @PKuchly57 @Milipol...</td>\n",
       "      <td>0.7579</td>\n",
       "      <td>0.500000</td>\n",
       "      <td>Positive</td>\n",
       "    </tr>\n",
       "    <tr>\n",
       "      <th>1</th>\n",
       "      <td>@Lamb2ja Hey James! How odd :/ Please call our...</td>\n",
       "      <td>0.6229</td>\n",
       "      <td>0.222222</td>\n",
       "      <td>Positive</td>\n",
       "    </tr>\n",
       "    <tr>\n",
       "      <th>2</th>\n",
       "      <td>@DespiteOfficial we had a listen last night :)...</td>\n",
       "      <td>0.7959</td>\n",
       "      <td>0.416667</td>\n",
       "      <td>Positive</td>\n",
       "    </tr>\n",
       "    <tr>\n",
       "      <th>3</th>\n",
       "      <td>@97sides CONGRATS :)</td>\n",
       "      <td>0.7983</td>\n",
       "      <td>0.500000</td>\n",
       "      <td>Positive</td>\n",
       "    </tr>\n",
       "    <tr>\n",
       "      <th>4</th>\n",
       "      <td>yeaaaah yippppy!!!  my accnt verified rqst has...</td>\n",
       "      <td>0.7950</td>\n",
       "      <td>0.250000</td>\n",
       "      <td>Positive</td>\n",
       "    </tr>\n",
       "  </tbody>\n",
       "</table>\n",
       "</div>"
      ],
      "text/plain": [
       "                                                Text  VADER_Sentiment  \\\n",
       "0  #FollowFriday @France_Inte @PKuchly57 @Milipol...           0.7579   \n",
       "1  @Lamb2ja Hey James! How odd :/ Please call our...           0.6229   \n",
       "2  @DespiteOfficial we had a listen last night :)...           0.7959   \n",
       "3                               @97sides CONGRATS :)           0.7983   \n",
       "4  yeaaaah yippppy!!!  my accnt verified rqst has...           0.7950   \n",
       "\n",
       "   TextBlob_Polarity Actual_Sentiment  \n",
       "0           0.500000         Positive  \n",
       "1           0.222222         Positive  \n",
       "2           0.416667         Positive  \n",
       "3           0.500000         Positive  \n",
       "4           0.250000         Positive  "
      ]
     },
     "execution_count": 79,
     "metadata": {},
     "output_type": "execute_result"
    }
   ],
   "source": [
    "from vaderSentiment.vaderSentiment import SentimentIntensityAnalyzer\n",
    "from textblob import TextBlob\n",
    "\n",
    "# Initialize VADER sentiment analyzer\n",
    "vader_analyzer = SentimentIntensityAnalyzer()\n",
    "\n",
    "# Apply VADER sentiment analysis to the Twitter dataset\n",
    "data['VADER_Sentiment'] = data['Text'].apply(lambda text: vader_analyzer.polarity_scores(text)['compound'])\n",
    "\n",
    "# Apply TextBlob sentiment analysis to the Twitter dataset\n",
    "data['TextBlob_Polarity'] = data['Text'].apply(lambda text: TextBlob(text).sentiment.polarity)\n",
    "\n",
    "# Display the first few rows of the results\n",
    "data[['Text', 'VADER_Sentiment', 'TextBlob_Polarity', 'Actual_Sentiment']].head()\n",
    "\n"
   ]
  },
  {
   "cell_type": "markdown",
   "id": "2dbc2c9e-c3f6-464b-a4f0-f27cde1219a2",
   "metadata": {},
   "source": [
    "### 3.3. Visualising Sentiment Distribution in Twitter Data\n",
    "We will now visualise the sentiment distributions for both VADER and TextBlob to see how each model handles the Twitter data. This will give us insights into how the models classify short-form, informal text."
   ]
  },
  {
   "cell_type": "code",
   "execution_count": 82,
   "id": "e743c3ee-c856-4532-b383-a273cbe96236",
   "metadata": {},
   "outputs": [
    {
     "data": {
      "image/png": "[encoded data removed]",
      "text/plain": [
       "<Figure size 1200x600 with 2 Axes>"
      ]
     },
     "metadata": {},
     "output_type": "display_data"
    }
   ],
   "source": [
    "import matplotlib.pyplot as plt\n",
    "import seaborn as sns\n",
    "\n",
    "# Set up the figure size\n",
    "plt.figure(figsize=(12, 6))\n",
    "\n",
    "# VADER Sentiment Distribution for Twitter Data\n",
    "plt.subplot(1, 2, 1)\n",
    "sns.histplot(data['VADER_Sentiment'], bins=20, kde=True, color='blue')\n",
    "plt.title('VADER Sentiment Distribution (Twitter Data)')\n",
    "plt.xlabel('VADER Sentiment')\n",
    "plt.ylabel('Count')\n",
    "\n",
    "# TextBlob Sentiment Distribution for Twitter Data\n",
    "plt.subplot(1, 2, 2)\n",
    "sns.histplot(data['TextBlob_Polarity'], bins=20, kde=True, color='orange')\n",
    "plt.title('TextBlob Sentiment Distribution (Twitter Data)')\n",
    "plt.xlabel('TextBlob Polarity')\n",
    "plt.ylabel('Count')\n",
    "\n",
    "# Display the plots\n",
    "plt.tight_layout()\n",
    "plt.show()\n",
    "\n"
   ]
  },
  {
   "cell_type": "markdown",
   "id": "f91d88bb-93a5-42ab-bb6f-b010287ba741",
   "metadata": {},
   "source": [
    "#### Comments:\n",
    "#### VADER Sentiment Distribution (Twitter Data):\n",
    "- The distribution shows sentiment scores ranging from **-1.0** (negative) to **1.0** (positive), with clear peaks at **-0.5**, **0.5**, and **0.75**.\n",
    "- Few tweets are classified as **neutral**, likely due to VADER’s sensitivity to punctuation and intensity markers.\n",
    "- VADER tends to produce strong classifications, with significant clusters in both positive and negative sentiment.\n",
    "\n",
    "#### TextBlob Sentiment Distribution (Twitter Data):\n",
    "- TextBlob’s distribution also ranges from **-1.0** to **1.0**, but has more tweets concentrated around **0.0**, reflecting its tendency to classify sentiment more neutrally.\n",
    "- Peaks at **-0.75** and **0.5** show TextBlob still captures extreme sentiment, but overall it assigns more **neutral** or moderate sentiment compared to VADER.\n",
    "\n",
    "#### Summary:\n",
    "- **VADER** is more sensitive to intensity and is more likely to classify tweets as strongly positive or negative.\n",
    "- **TextBlob** is more conservative and assigns more **neutral** or mildly positive/negative classifications.\n"
   ]
  },
  {
   "cell_type": "markdown",
   "id": "32d0e05f-cb1c-4b8f-a389-84e713235a01",
   "metadata": {},
   "source": [
    "### 3.4. Comparing VADER and TextBlob Sentiment Classifications\n",
    "Now that we’ve visualised the distributions, we can classify the sentiment into Positive, Neutral, and Negative categories, just as we did in the simple dataset."
   ]
  },
  {
   "cell_type": "code",
   "execution_count": 86,
   "id": "2c6fae17-f78a-4505-ae34-26b618f88599",
   "metadata": {},
   "outputs": [
    {
     "data": {
      "text/html": [
       "<div>\n",
       "<style scoped>\n",
       "    .dataframe tbody tr th:only-of-type {\n",
       "        vertical-align: middle;\n",
       "    }\n",
       "\n",
       "    .dataframe tbody tr th {\n",
       "        vertical-align: top;\n",
       "    }\n",
       "\n",
       "    .dataframe thead th {\n",
       "        text-align: right;\n",
       "    }\n",
       "</style>\n",
       "<table border=\"1\" class=\"dataframe\">\n",
       "  <thead>\n",
       "    <tr style=\"text-align: right;\">\n",
       "      <th></th>\n",
       "      <th>Text</th>\n",
       "      <th>Actual_Sentiment</th>\n",
       "      <th>VADER_Sentiment_Category</th>\n",
       "      <th>TextBlob_Sentiment_Category</th>\n",
       "    </tr>\n",
       "  </thead>\n",
       "  <tbody>\n",
       "    <tr>\n",
       "      <th>0</th>\n",
       "      <td>#FollowFriday @France_Inte @PKuchly57 @Milipol...</td>\n",
       "      <td>Positive</td>\n",
       "      <td>Positive</td>\n",
       "      <td>Positive</td>\n",
       "    </tr>\n",
       "    <tr>\n",
       "      <th>1</th>\n",
       "      <td>@Lamb2ja Hey James! How odd :/ Please call our...</td>\n",
       "      <td>Positive</td>\n",
       "      <td>Positive</td>\n",
       "      <td>Positive</td>\n",
       "    </tr>\n",
       "    <tr>\n",
       "      <th>2</th>\n",
       "      <td>@DespiteOfficial we had a listen last night :)...</td>\n",
       "      <td>Positive</td>\n",
       "      <td>Positive</td>\n",
       "      <td>Positive</td>\n",
       "    </tr>\n",
       "    <tr>\n",
       "      <th>3</th>\n",
       "      <td>@97sides CONGRATS :)</td>\n",
       "      <td>Positive</td>\n",
       "      <td>Positive</td>\n",
       "      <td>Positive</td>\n",
       "    </tr>\n",
       "    <tr>\n",
       "      <th>4</th>\n",
       "      <td>yeaaaah yippppy!!!  my accnt verified rqst has...</td>\n",
       "      <td>Positive</td>\n",
       "      <td>Positive</td>\n",
       "      <td>Positive</td>\n",
       "    </tr>\n",
       "  </tbody>\n",
       "</table>\n",
       "</div>"
      ],
      "text/plain": [
       "                                                Text Actual_Sentiment  \\\n",
       "0  #FollowFriday @France_Inte @PKuchly57 @Milipol...         Positive   \n",
       "1  @Lamb2ja Hey James! How odd :/ Please call our...         Positive   \n",
       "2  @DespiteOfficial we had a listen last night :)...         Positive   \n",
       "3                               @97sides CONGRATS :)         Positive   \n",
       "4  yeaaaah yippppy!!!  my accnt verified rqst has...         Positive   \n",
       "\n",
       "  VADER_Sentiment_Category TextBlob_Sentiment_Category  \n",
       "0                 Positive                    Positive  \n",
       "1                 Positive                    Positive  \n",
       "2                 Positive                    Positive  \n",
       "3                 Positive                    Positive  \n",
       "4                 Positive                    Positive  "
      ]
     },
     "execution_count": 86,
     "metadata": {},
     "output_type": "execute_result"
    }
   ],
   "source": [
    "# Function to classify sentiment into categories\n",
    "def classify_sentiment(score):\n",
    "    if score > 0:\n",
    "        return 'Positive'\n",
    "    elif score == 0:\n",
    "        return 'Neutral'\n",
    "    else:\n",
    "        return 'Negative'\n",
    "\n",
    "# Classify VADER and TextBlob sentiment\n",
    "data['VADER_Sentiment_Category'] = data['VADER_Sentiment'].apply(classify_sentiment)\n",
    "data['TextBlob_Sentiment_Category'] = data['TextBlob_Polarity'].apply(classify_sentiment)\n",
    "\n",
    "# Display the first few rows of the classified results\n",
    "data[['Text', 'Actual_Sentiment', 'VADER_Sentiment_Category', 'TextBlob_Sentiment_Category']].head()\n"
   ]
  },
  {
   "cell_type": "markdown",
   "id": "db5e19e3-f4c2-4056-815d-d30c7e4609e7",
   "metadata": {},
   "source": [
    "### 3.5. Visualising Sentiment Categories in Twitter Data\n",
    "Next, we visualise the sentiment categories for both VADER and TextBlob. This will show us how each model classified the sentiment across the Twitter dataset."
   ]
  },
  {
   "cell_type": "code",
   "execution_count": 116,
   "id": "2a0ad90a-ee7a-4a59-a395-b3425d0328d3",
   "metadata": {},
   "outputs": [
    {
     "data": {
      "image/png": "[encoded data removed]",
      "text/plain": [
       "<Figure size 1000x500 with 2 Axes>"
      ]
     },
     "metadata": {},
     "output_type": "display_data"
    }
   ],
   "source": [
    "# Set up the figure size\n",
    "plt.figure(figsize=(10, 5))\n",
    "\n",
    "# VADER Sentiment Categories in Twitter Data\n",
    "plt.subplot(1, 2, 1)\n",
    "sns.countplot(x='VADER_Sentiment_Category', data=data, hue='VADER_Sentiment_Category', palette='Blues', legend=False)\n",
    "plt.title('VADER Sentiment Categories (Twitter Data)')\n",
    "\n",
    "# TextBlob Sentiment Categories in Twitter Data\n",
    "plt.subplot(1, 2, 2)\n",
    "sns.countplot(x='TextBlob_Sentiment_Category', data=data, hue='TextBlob_Sentiment_Category', palette='Oranges', legend=False)\n",
    "plt.title('TextBlob Sentiment Categories (Twitter Data)')\n",
    "\n",
    "# Display the plots\n",
    "plt.tight_layout()\n",
    "plt.show()\n"
   ]
  },
  {
   "cell_type": "markdown",
   "id": "7b6fd975-aac9-4032-9683-e8b30fcfd732",
   "metadata": {},
   "source": [
    "#### Comments:\n",
    "- **VADER** leans heavily towards **Positive** classifications, with very few neutral tweets.\n",
    "- **TextBlob** shows a similar balance between **Positive** and **Negative** tweets but remains conservative in identifying **Neutral** sentiment.\n"
   ]
  },
  {
   "cell_type": "markdown",
   "id": "eff0a77c-f5a0-41f2-8c7f-c1743f95ee68",
   "metadata": {},
   "source": [
    "### 3.6. Calculating Accuracy for VADER and TextBlob\n",
    "The accuracy for both models can be calculated by comparing the predicted sentiment categories to the actual sentiment labels (positive or negative)."
   ]
  },
  {
   "cell_type": "code",
   "execution_count": 120,
   "id": "bc10514d-4e64-4907-85c9-3a940fdfcdc7",
   "metadata": {},
   "outputs": [
    {
     "name": "stdout",
     "output_type": "stream",
     "text": [
      "VADER Accuracy: 80.37%\n",
      "TextBlob Accuracy: 96.45%\n"
     ]
    }
   ],
   "source": [
    "# Calculate accuracy for VADER\n",
    "vader_accuracy = (data['VADER_Sentiment_Category'] == data['Actual_Sentiment']).mean()\n",
    "print(f\"VADER Accuracy: {vader_accuracy:.2%}\")\n",
    "\n",
    "# Calculate accuracy for TextBlob\n",
    "textblob_accuracy = (data['TextBlob_Sentiment_Category'] == data['Actual_Sentiment']).mean()\n",
    "print(f\"TextBlob Accuracy: {textblob_accuracy:.2%}\")\n"
   ]
  },
  {
   "cell_type": "markdown",
   "id": "1bab31f0-f6c6-4e3e-a59f-6d92a1013f88",
   "metadata": {},
   "source": [
    "#### Accuracy Comparison:\n",
    "- **TextBlob** outperforms **VADER** in this dataset, with significantly higher accuracy, reflecting its balanced approach to sentiment classification. VADER, while effective for detecting intense sentiment, tends to misclassify more often when dealing with neutral or ambiguous text.\n"
   ]
  },
  {
   "cell_type": "markdown",
   "id": "3d281307-a821-4ec8-906d-014d98ee6dcf",
   "metadata": {},
   "source": [
    "### 3.7. Investigating Misclassifications\n",
    "After calculating the accuracy, it’s useful to investigate where VADER and TextBlob made incorrect predictions. This analysis helps us understand the kinds of tweets that the models struggle with, such as sarcasm, mixed sentiments, or informal language."
   ]
  },
  {
   "cell_type": "markdown",
   "id": "5dd71e38-879d-4b84-9b73-0fed73e763dc",
   "metadata": {},
   "source": [
    "#### Misclassified by Both VADER and TextBlob:"
   ]
  },
  {
   "cell_type": "code",
   "execution_count": 148,
   "id": "d89bd878-6827-4f2b-8929-62588a6d263d",
   "metadata": {},
   "outputs": [
    {
     "data": {
      "text/html": [
       "<div>\n",
       "<style scoped>\n",
       "    .dataframe tbody tr th:only-of-type {\n",
       "        vertical-align: middle;\n",
       "    }\n",
       "\n",
       "    .dataframe tbody tr th {\n",
       "        vertical-align: top;\n",
       "    }\n",
       "\n",
       "    .dataframe thead th {\n",
       "        text-align: right;\n",
       "    }\n",
       "</style>\n",
       "<table border=\"1\" class=\"dataframe\">\n",
       "  <thead>\n",
       "    <tr style=\"text-align: right;\">\n",
       "      <th></th>\n",
       "      <th>Text</th>\n",
       "      <th>Actual_Sentiment</th>\n",
       "      <th>VADER_Sentiment_Category</th>\n",
       "      <th>TextBlob_Sentiment_Category</th>\n",
       "    </tr>\n",
       "  </thead>\n",
       "  <tbody>\n",
       "    <tr>\n",
       "      <th>9</th>\n",
       "      <td>As an act of mischievousness, am calling the ETL layer of our in-house warehousing app Katamari.\\n\\nWell… as the name implies :p.</td>\n",
       "      <td>Positive</td>\n",
       "      <td>Neutral</td>\n",
       "      <td>Neutral</td>\n",
       "    </tr>\n",
       "    <tr>\n",
       "      <th>192</th>\n",
       "      <td>The question is flawed. Pain doesn't negate strength :)  https://t.co/77TbkS2Djw</td>\n",
       "      <td>Positive</td>\n",
       "      <td>Negative</td>\n",
       "      <td>Neutral</td>\n",
       "    </tr>\n",
       "    <tr>\n",
       "      <th>260</th>\n",
       "      <td>@IonSwitz @notch also, Twitter is terrible for complicated discussions :)</td>\n",
       "      <td>Positive</td>\n",
       "      <td>Negative</td>\n",
       "      <td>Negative</td>\n",
       "    </tr>\n",
       "    <tr>\n",
       "      <th>271</th>\n",
       "      <td>@_pigglywiggly @Omundson The mango lassi's from Monty's are marvellous :D. Though I suspect that's not what you meant....</td>\n",
       "      <td>Positive</td>\n",
       "      <td>Negative</td>\n",
       "      <td>Neutral</td>\n",
       "    </tr>\n",
       "    <tr>\n",
       "      <th>283</th>\n",
       "      <td>My legs hurt so bad :))))))))))))))))))</td>\n",
       "      <td>Positive</td>\n",
       "      <td>Negative</td>\n",
       "      <td>Negative</td>\n",
       "    </tr>\n",
       "  </tbody>\n",
       "</table>\n",
       "</div>"
      ],
      "text/plain": [
       "                                                                                                                                  Text  \\\n",
       "9    As an act of mischievousness, am calling the ETL layer of our in-house warehousing app Katamari.\\n\\nWell… as the name implies :p.   \n",
       "192                                                   The question is flawed. Pain doesn't negate strength :)  https://t.co/77TbkS2Djw   \n",
       "260                                                          @IonSwitz @notch also, Twitter is terrible for complicated discussions :)   \n",
       "271          @_pigglywiggly @Omundson The mango lassi's from Monty's are marvellous :D. Though I suspect that's not what you meant....   \n",
       "283                                                                                            My legs hurt so bad :))))))))))))))))))   \n",
       "\n",
       "    Actual_Sentiment VADER_Sentiment_Category TextBlob_Sentiment_Category  \n",
       "9           Positive                  Neutral                     Neutral  \n",
       "192         Positive                 Negative                     Neutral  \n",
       "260         Positive                 Negative                    Negative  \n",
       "271         Positive                 Negative                     Neutral  \n",
       "283         Positive                 Negative                    Negative  "
      ]
     },
     "execution_count": 148,
     "metadata": {},
     "output_type": "execute_result"
    }
   ],
   "source": [
    "# Ensure the full text of the tweets is displayed\n",
    "pd.set_option('display.max_colwidth', None)\n",
    "\n",
    "# Display the full text for the misclassified tweets\n",
    "misclassified_both[['Text', 'Actual_Sentiment', 'VADER_Sentiment_Category', 'TextBlob_Sentiment_Category']].head()\n"
   ]
  },
  {
   "cell_type": "markdown",
   "id": "1bcaca9b-5cb1-4397-b78e-c751e50cf1e9",
   "metadata": {},
   "source": [
    "#### Analysis of Misclassified Tweets by Both VADER and TextBlob:\n",
    "\n",
    "- **Tweet 9**: \"As an act of mischievousness, am calling the ETL layer of our in-house warehousing app Katamari.\\n\\nWell… as the name implies :p.\"  \n",
    "  Misclassified as **Neutral** by both models. The tweet uses playful language and humor, but the lack of strong positive sentiment markers caused both models to miss the positive tone.\n",
    "\n",
    "- **Tweet 192**: \"The question is flawed. Pain doesn't negate strength :) https://t.co/77TbkS2Djw\"  \n",
    "  Misclassified as **Negative/Neutral**. The smiley face suggests a positive tone, but the tweet's philosophical nature may have confused both models, leading to misclassification.\n",
    "\n",
    "- **Tweet 260**: \"@IonSwitz @notch also, Twitter is terrible for complicated discussions :)\"  \n",
    "  Misclassified as **Negative**. The conversational tone and sarcasm indicated by the smiley face were not picked up as positive sentiment by either model.\n",
    "\n",
    "- **Tweet 271**: \"@_pigglywiggly @Omundson The mango lassi's from Monty's are marvellous :D. Though I suspect that's not what you meant....\"  \n",
    "  Misclassified as **Negative/Neutral**. The positive expression (\"marvellous\") was overlooked due to the casual tone and indirect sentiment, confusing both models.\n",
    "\n",
    "- **Tweet 283**: \"My legs hurt so bad :))))))))))))))))))\"  \n",
    "  Misclassified as **Negative**. Despite the exaggerated smiley faces, both models interpreted the tweet as negative due to the phrase \"my legs hurt,\" missing the sarcastic, humorous tone.\n",
    "\n",
    "\n",
    "Both **VADER** and **TextBlob** struggle with informal, conversational language, humor, and sarcasm. Tweets with playful or mixed sentiment cues, such as smiley faces or indirect positivity, are prone to misclassification.\n"
   ]
  },
  {
   "cell_type": "markdown",
   "id": "12380273-a18d-4608-a685-fa90aef8c8c2",
   "metadata": {},
   "source": [
    "#### Correct for VADER but Incorrect for TextBlob:"
   ]
  },
  {
   "cell_type": "code",
   "execution_count": 154,
   "id": "4def7f2d-144f-4a5f-807f-de6f0292dc9d",
   "metadata": {},
   "outputs": [
    {
     "data": {
      "text/html": [
       "<div>\n",
       "<style scoped>\n",
       "    .dataframe tbody tr th:only-of-type {\n",
       "        vertical-align: middle;\n",
       "    }\n",
       "\n",
       "    .dataframe tbody tr th {\n",
       "        vertical-align: top;\n",
       "    }\n",
       "\n",
       "    .dataframe thead th {\n",
       "        text-align: right;\n",
       "    }\n",
       "</style>\n",
       "<table border=\"1\" class=\"dataframe\">\n",
       "  <thead>\n",
       "    <tr style=\"text-align: right;\">\n",
       "      <th></th>\n",
       "      <th>Text</th>\n",
       "      <th>Actual_Sentiment</th>\n",
       "      <th>VADER_Sentiment_Category</th>\n",
       "      <th>TextBlob_Sentiment_Category</th>\n",
       "    </tr>\n",
       "  </thead>\n",
       "  <tbody>\n",
       "    <tr>\n",
       "      <th>78</th>\n",
       "      <td>finally the fucking weekend :)</td>\n",
       "      <td>Positive</td>\n",
       "      <td>Positive</td>\n",
       "      <td>Negative</td>\n",
       "    </tr>\n",
       "    <tr>\n",
       "      <th>216</th>\n",
       "      <td>@suzannepanter @kevinbacon @katosman Ah! Now it makes sense... Didn't see the pic on my effing phone last night. Woot :) x</td>\n",
       "      <td>Positive</td>\n",
       "      <td>Positive</td>\n",
       "      <td>Neutral</td>\n",
       "    </tr>\n",
       "    <tr>\n",
       "      <th>453</th>\n",
       "      <td>@amiibofiguresuk looks like GAME ships to the US again! Got my order in :)</td>\n",
       "      <td>Positive</td>\n",
       "      <td>Positive</td>\n",
       "      <td>Neutral</td>\n",
       "    </tr>\n",
       "    <tr>\n",
       "      <th>751</th>\n",
       "      <td>Ill be better soon. :) — feeling sick</td>\n",
       "      <td>Positive</td>\n",
       "      <td>Positive</td>\n",
       "      <td>Negative</td>\n",
       "    </tr>\n",
       "    <tr>\n",
       "      <th>1005</th>\n",
       "      <td>As if bank credit departments weren't bad enough, ANZ has gone to the extreme of offshoring theirs!!! Absolutely classic :-)\\n#gottolovebanks</td>\n",
       "      <td>Positive</td>\n",
       "      <td>Positive</td>\n",
       "      <td>Negative</td>\n",
       "    </tr>\n",
       "  </tbody>\n",
       "</table>\n",
       "</div>"
      ],
      "text/plain": [
       "                                                                                                                                               Text  \\\n",
       "78                                                                                                                   finally the fucking weekend :)   \n",
       "216                      @suzannepanter @kevinbacon @katosman Ah! Now it makes sense... Didn't see the pic on my effing phone last night. Woot :) x   \n",
       "453                                                                      @amiibofiguresuk looks like GAME ships to the US again! Got my order in :)   \n",
       "751                                                                                                           Ill be better soon. :) — feeling sick   \n",
       "1005  As if bank credit departments weren't bad enough, ANZ has gone to the extreme of offshoring theirs!!! Absolutely classic :-)\\n#gottolovebanks   \n",
       "\n",
       "     Actual_Sentiment VADER_Sentiment_Category TextBlob_Sentiment_Category  \n",
       "78           Positive                 Positive                    Negative  \n",
       "216          Positive                 Positive                     Neutral  \n",
       "453          Positive                 Positive                     Neutral  \n",
       "751          Positive                 Positive                    Negative  \n",
       "1005         Positive                 Positive                    Negative  "
      ]
     },
     "execution_count": 154,
     "metadata": {},
     "output_type": "execute_result"
    }
   ],
   "source": [
    "# Filter for tweets correctly classified by VADER but misclassified by TextBlob\n",
    "correct_vader_incorrect_textblob = data[(data['VADER_Sentiment_Category'] == data['Actual_Sentiment']) & \n",
    "                                        (data['TextBlob_Sentiment_Category'] != data['Actual_Sentiment'])]\n",
    "\n",
    "# Display some examples\n",
    "correct_vader_incorrect_textblob[['Text', 'Actual_Sentiment', 'VADER_Sentiment_Category', 'TextBlob_Sentiment_Category']].head()\n"
   ]
  },
  {
   "cell_type": "markdown",
   "id": "fff25460-5bc9-421d-aad5-8cd834456c5d",
   "metadata": {},
   "source": [
    "#### Analysis of Tweets Correct for VADER but Incorrect for TextBlob:\n",
    "\n",
    "- **Tweet 78**: \"finally the fucking weekend :)\"  \n",
    "  Correctly classified as **Positive** by VADER but misclassified as **Negative** by TextBlob. The casual language and positive emoticon were captured by VADER, while TextBlob likely focused on the profanity and misinterpreted the sentiment.\n",
    "\n",
    "- **Tweet 216**: \"@suzannepanter @kevinbacon @katosman Ah! Now it makes sense... Didn't see the pic on my effing phone last night. Woot :) x\"  \n",
    "  Classified as **Positive** by VADER but **Neutral** by TextBlob. The informal expression \"Woot :)\" conveys excitement, which VADER picked up, while TextBlob's more conservative approach missed it.\n",
    "\n",
    "- **Tweet 453**: \"@amiibofiguresuk looks like GAME ships to the US again! Got my order in :)\"  \n",
    "  Correctly classified as **Positive** by VADER but misclassified as **Neutral** by TextBlob. The happy tone signified by \"Got my order in :)\" was identified by VADER but overlooked by TextBlob, which may have missed the emoticon's impact.\n",
    "\n",
    "- **Tweet 751**: \"Ill be better soon. :) — feeling sick\"  \n",
    "  VADER classified this tweet as **Positive** while TextBlob marked it as **Negative**. Despite the mention of sickness, the positive emoticon was enough for VADER to detect positivity, while TextBlob may have focused on the \"feeling sick\" part.\n",
    "\n",
    "- **Tweet 1005**: \"As if bank credit departments weren't bad enough, ANZ has gone to the extreme of offshoring theirs!!! Absolutely classic :-)\\n#gottolovebanks\"  \n",
    "  VADER classified this tweet as **Positive** due to the sarcastic smiley face, while TextBlob classified it as **Negative**, likely due to its focus on the critical language around banks.\n",
    "\n",
    "**VADER** tends to pick up on positive emoticons and phrases that indicate excitement or satisfaction, while **TextBlob** often overlooks these subtle positive cues, resulting in misclassifications. TextBlob's more neutral approach can cause it to miss informal positivity, especially when mixed with casual or critical language.\n"
   ]
  },
  {
   "cell_type": "markdown",
   "id": "de2fdb31-d0fe-46fe-9d97-ed3e83bf954d",
   "metadata": {},
   "source": [
    "#### Correct for TextBlob but Incorrect for VADER:"
   ]
  },
  {
   "cell_type": "code",
   "execution_count": 156,
   "id": "8cc5e3a3-6903-4feb-af84-fce50dbf48b0",
   "metadata": {
    "scrolled": true
   },
   "outputs": [
    {
     "data": {
      "text/html": [
       "<div>\n",
       "<style scoped>\n",
       "    .dataframe tbody tr th:only-of-type {\n",
       "        vertical-align: middle;\n",
       "    }\n",
       "\n",
       "    .dataframe tbody tr th {\n",
       "        vertical-align: top;\n",
       "    }\n",
       "\n",
       "    .dataframe thead th {\n",
       "        text-align: right;\n",
       "    }\n",
       "</style>\n",
       "<table border=\"1\" class=\"dataframe\">\n",
       "  <thead>\n",
       "    <tr style=\"text-align: right;\">\n",
       "      <th></th>\n",
       "      <th>Text</th>\n",
       "      <th>Actual_Sentiment</th>\n",
       "      <th>VADER_Sentiment_Category</th>\n",
       "      <th>TextBlob_Sentiment_Category</th>\n",
       "    </tr>\n",
       "  </thead>\n",
       "  <tbody>\n",
       "    <tr>\n",
       "      <th>11</th>\n",
       "      <td>Who Wouldn't Love These Big....Juicy....Selfies :) - http://t.co/QVzjgd1uFo http://t.co/oWBL11eQRY</td>\n",
       "      <td>Positive</td>\n",
       "      <td>Negative</td>\n",
       "      <td>Positive</td>\n",
       "    </tr>\n",
       "    <tr>\n",
       "      <th>18</th>\n",
       "      <td>@oohdawg_ Hi liv :))</td>\n",
       "      <td>Positive</td>\n",
       "      <td>Neutral</td>\n",
       "      <td>Positive</td>\n",
       "    </tr>\n",
       "    <tr>\n",
       "      <th>31</th>\n",
       "      <td>@KalinWhite come to my house :)))))</td>\n",
       "      <td>Positive</td>\n",
       "      <td>Neutral</td>\n",
       "      <td>Positive</td>\n",
       "    </tr>\n",
       "    <tr>\n",
       "      <th>65</th>\n",
       "      <td>i have liam access now :))</td>\n",
       "      <td>Positive</td>\n",
       "      <td>Neutral</td>\n",
       "      <td>Positive</td>\n",
       "    </tr>\n",
       "    <tr>\n",
       "      <th>67</th>\n",
       "      <td>Stats for the day have arrived. 1 new follower and NO unfollowers :) via http://t.co/p6K6SiH58a.</td>\n",
       "      <td>Positive</td>\n",
       "      <td>Negative</td>\n",
       "      <td>Positive</td>\n",
       "    </tr>\n",
       "  </tbody>\n",
       "</table>\n",
       "</div>"
      ],
      "text/plain": [
       "                                                                                                  Text  \\\n",
       "11  Who Wouldn't Love These Big....Juicy....Selfies :) - http://t.co/QVzjgd1uFo http://t.co/oWBL11eQRY   \n",
       "18                                                                                @oohdawg_ Hi liv :))   \n",
       "31                                                                 @KalinWhite come to my house :)))))   \n",
       "65                                                                          i have liam access now :))   \n",
       "67    Stats for the day have arrived. 1 new follower and NO unfollowers :) via http://t.co/p6K6SiH58a.   \n",
       "\n",
       "   Actual_Sentiment VADER_Sentiment_Category TextBlob_Sentiment_Category  \n",
       "11         Positive                 Negative                    Positive  \n",
       "18         Positive                  Neutral                    Positive  \n",
       "31         Positive                  Neutral                    Positive  \n",
       "65         Positive                  Neutral                    Positive  \n",
       "67         Positive                 Negative                    Positive  "
      ]
     },
     "execution_count": 156,
     "metadata": {},
     "output_type": "execute_result"
    }
   ],
   "source": [
    "# Filter for tweets correctly classified by TextBlob but misclassified by VADER\n",
    "correct_textblob_incorrect_vader = data[(data['VADER_Sentiment_Category'] != data['Actual_Sentiment']) & \n",
    "                                        (data['TextBlob_Sentiment_Category'] == data['Actual_Sentiment'])]\n",
    "\n",
    "# Display some examples\n",
    "correct_textblob_incorrect_vader[['Text', 'Actual_Sentiment', 'VADER_Sentiment_Category', 'TextBlob_Sentiment_Category']].head()\n"
   ]
  },
  {
   "cell_type": "markdown",
   "id": "ad21845e-bc37-4e33-8213-3026aac79702",
   "metadata": {},
   "source": [
    "#### Analysis of Tweets Correct for TextBlob but Incorrect for VADER:\n",
    "\n",
    "- **Tweet 11**: \"Who Wouldn't Love These Big....Juicy....Selfies :) - http://t.co/QVzjgd1uFo http://t.co/oWBL11eQRY\"  \n",
    "  Misclassified as **Negative** by VADER but correctly classified as **Positive** by TextBlob. VADER likely focused on words like \"big\" and \"juicy,\" misinterpreting them as negative, while TextBlob correctly identified the positive sentiment based on the smiley face and playful language.\n",
    "\n",
    "- **Tweet 18**: \"@oohdawg_ Hi liv :))\"  \n",
    "  Misclassified as **Neutral** by VADER but correctly classified as **Positive** by TextBlob. The double smiley emoticon clearly indicates positive sentiment, which VADER failed to recognize but TextBlob captured.\n",
    "\n",
    "- **Tweet 31**: \"@KalinWhite come to my house :)))))\"  \n",
    "  VADER classified this tweet as **Neutral**, but TextBlob correctly identified the enthusiastic tone as **Positive** due to the excessive smiley faces.\n",
    "\n",
    "- **Tweet 65**: \"i have liam access now :))\"  \n",
    "  VADER classified this as **Neutral**, likely missing the positive sentiment conveyed by the smiley face. TextBlob, however, recognized the excitement and correctly labeled it as **Positive**.\n",
    "\n",
    "- **Tweet 67**: \"Stats for the day have arrived. 1 new follower and NO unfollowers :) via http://t.co/p6K6SiH58a.\"  \n",
    "  Misclassified as **Negative** by VADER, likely due to the word \"NO,\" while TextBlob correctly identified the tweet as **Positive**, picking up on the overall positive sentiment and the smiley face.\n",
    "\n",
    "### Key Insight:\n",
    "- **VADER** tends to misclassify tweets with positive emoticons and casual language as **Neutral** or **Negative**, especially when there are words that can be misinterpreted. **TextBlob**, in contrast, picks up on positive emoticons and informal expressions, leading to more accurate sentiment classification in these cases.\n"
   ]
  },
  {
   "cell_type": "markdown",
   "id": "11ad61df-df57-4d93-bd26-3464ddf6071a",
   "metadata": {},
   "source": [
    "## 4. Conclusion\n",
    "\n",
    "In this analysis, we explored the capabilities and limitations of two popular lexicon-based sentiment analysis models: **VADER** and **TextBlob**. By applying these models to both a simple dataset and a more complex Twitter dataset, we gained insights into how each model handles sentiment detection.\n",
    "\n",
    "### Key Findings:\n",
    "1. **VADER** is highly sensitive to intensity markers such as punctuation, capitalization, and emoticons, which allows it to effectively capture strong positive and negative sentiments. However, this sensitivity can also lead to misclassifications, particularly in more nuanced or neutral texts.\n",
    "   \n",
    "2. **TextBlob** tends to provide more conservative sentiment classifications, often skewing toward neutral or mildly positive/negative sentiment. While it is less prone to extreme misclassifications, it sometimes fails to capture the intensity or informal sentiment cues present in the text.\n",
    "\n",
    "3. **Challenges in Lexicon-Based Models**:\n",
    "   - Both models struggled with sarcasm, informal language, and subtle positive sentiment cues (such as emoticons or casual expressions). Tweets that contained humor, mixed sentiments, or indirect positivity were particularly challenging.\n",
    "   - While VADER outperformed TextBlob in identifying sentiment intensity, **TextBlob** showed better overall accuracy in the Twitter dataset, likely due to its more balanced approach in handling neutral sentiment.\n",
    "  \n",
    "In summary, **VADER** and **TextBlob** offer solid, quick solutions for sentiment analysis, particularly for specific use cases like social media analysis. However, like all models, their limitations must be considered depending on the type of text and the complexity of sentiment.\n"
   ]
  },
  {
   "cell_type": "code",
   "execution_count": null,
   "id": "44e6f5b5-aaab-486d-8f75-ea1216b12fa5",
   "metadata": {},
   "outputs": [],
   "source": []
  }
 ],
 "metadata": {
  "kernelspec": {
   "display_name": "Python 3 (ipykernel)",
   "language": "python",
   "name": "python3"
  },
  "language_info": {
   "codemirror_mode": {
    "name": "ipython",
    "version": 3
   },
   "file_extension": ".py",
   "mimetype": "text/x-python",
   "name": "python",
   "nbconvert_exporter": "python",
   "pygments_lexer": "ipython3",
   "version": "3.12.4"
  }
 },
 "nbformat": 4,
 "nbformat_minor": 5
}
